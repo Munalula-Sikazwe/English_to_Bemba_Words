{
 "cells": [
  {
   "cell_type": "code",
   "execution_count": 1,
   "id": "7544a631",
   "metadata": {},
   "outputs": [],
   "source": [
    "import pandas as pd\n",
    "import numpy as np\n"
   ]
  },
  {
   "cell_type": "code",
   "execution_count": 2,
   "id": "225fe7c7",
   "metadata": {
    "scrolled": true
   },
   "outputs": [
    {
     "data": {
      "text/html": [
       "<div>\n",
       "<style scoped>\n",
       "    .dataframe tbody tr th:only-of-type {\n",
       "        vertical-align: middle;\n",
       "    }\n",
       "\n",
       "    .dataframe tbody tr th {\n",
       "        vertical-align: top;\n",
       "    }\n",
       "\n",
       "    .dataframe thead th {\n",
       "        text-align: right;\n",
       "    }\n",
       "</style>\n",
       "<table border=\"1\" class=\"dataframe\">\n",
       "  <thead>\n",
       "    <tr style=\"text-align: right;\">\n",
       "      <th></th>\n",
       "      <th>English</th>\n",
       "      <th>Bemba</th>\n",
       "      <th>Bemba2</th>\n",
       "    </tr>\n",
       "  </thead>\n",
       "  <tbody>\n",
       "    <tr>\n",
       "      <th>0</th>\n",
       "      <td>Abdomen</td>\n",
       "      <td>Ifumo</td>\n",
       "      <td>NaN</td>\n",
       "    </tr>\n",
       "    <tr>\n",
       "      <th>1</th>\n",
       "      <td>Above</td>\n",
       "      <td>Pa mulu</td>\n",
       "      <td>NaN</td>\n",
       "    </tr>\n",
       "    <tr>\n",
       "      <th>2</th>\n",
       "      <td>Absent</td>\n",
       "      <td>Tapali</td>\n",
       "      <td>Talipo</td>\n",
       "    </tr>\n",
       "    <tr>\n",
       "      <th>3</th>\n",
       "      <td>Abuse</td>\n",
       "      <td>Umusalula</td>\n",
       "      <td>NaN</td>\n",
       "    </tr>\n",
       "    <tr>\n",
       "      <th>4</th>\n",
       "      <td>Accept</td>\n",
       "      <td>Poka</td>\n",
       "      <td>Pokelela</td>\n",
       "    </tr>\n",
       "    <tr>\n",
       "      <th>...</th>\n",
       "      <td>...</td>\n",
       "      <td>...</td>\n",
       "      <td>...</td>\n",
       "    </tr>\n",
       "    <tr>\n",
       "      <th>2031</th>\n",
       "      <td>Measure</td>\n",
       "      <td>Pima</td>\n",
       "      <td>Cipimo</td>\n",
       "    </tr>\n",
       "    <tr>\n",
       "      <th>2032</th>\n",
       "      <td>Meat</td>\n",
       "      <td>Nama</td>\n",
       "      <td>Munofu</td>\n",
       "    </tr>\n",
       "    <tr>\n",
       "      <th>2033</th>\n",
       "      <td>Medal</td>\n",
       "      <td>Nsalamu</td>\n",
       "      <td>NaN</td>\n",
       "    </tr>\n",
       "    <tr>\n",
       "      <th>2034</th>\n",
       "      <td>Mediator</td>\n",
       "      <td>Ndubulwila</td>\n",
       "      <td>NaN</td>\n",
       "    </tr>\n",
       "    <tr>\n",
       "      <th>2035</th>\n",
       "      <td>Medicine</td>\n",
       "      <td>Muti</td>\n",
       "      <td>NaN</td>\n",
       "    </tr>\n",
       "  </tbody>\n",
       "</table>\n",
       "<p>2036 rows × 3 columns</p>\n",
       "</div>"
      ],
      "text/plain": [
       "       English       Bemba    Bemba2\n",
       "0      Abdomen       Ifumo       NaN\n",
       "1        Above     Pa mulu       NaN\n",
       "2       Absent      Tapali    Talipo\n",
       "3        Abuse   Umusalula       NaN\n",
       "4       Accept        Poka  Pokelela\n",
       "...        ...         ...       ...\n",
       "2031   Measure        Pima    Cipimo\n",
       "2032      Meat        Nama    Munofu\n",
       "2033     Medal     Nsalamu       NaN\n",
       "2034  Mediator  Ndubulwila       NaN\n",
       "2035  Medicine        Muti       NaN\n",
       "\n",
       "[2036 rows x 3 columns]"
      ]
     },
     "execution_count": 2,
     "metadata": {},
     "output_type": "execute_result"
    }
   ],
   "source": [
    "words = pd.read_html('sheet.html')\n",
    "words = np.array(words)\n",
    "words = words.reshape(2037,7)[1:]\n",
    "words = pd.DataFrame(words,columns=['index',\"English\",\"Bemba\",\"Bemba2\",4,5,6])\n",
    "words = words.drop(['index',4,5,6],axis=1)\n",
    "words"
   ]
  },
  {
   "cell_type": "code",
   "execution_count": 3,
   "id": "522abf0e",
   "metadata": {},
   "outputs": [],
   "source": [
    "words = words.to_csv()\n",
    "with open('english_to_bemba.csv','w',encoding='utf-8') as english_to_bemba:\n",
    "    english_to_bemba.write(words)"
   ]
  },
  {
   "cell_type": "code",
   "execution_count": null,
   "id": "c90b65b5",
   "metadata": {},
   "outputs": [],
   "source": []
  }
 ],
 "metadata": {
  "kernelspec": {
   "display_name": "Python 3 (ipykernel)",
   "language": "python",
   "name": "python3"
  },
  "language_info": {
   "codemirror_mode": {
    "name": "ipython",
    "version": 3
   },
   "file_extension": ".py",
   "mimetype": "text/x-python",
   "name": "python",
   "nbconvert_exporter": "python",
   "pygments_lexer": "ipython3",
   "version": "3.9.12"
  }
 },
 "nbformat": 4,
 "nbformat_minor": 5
}
